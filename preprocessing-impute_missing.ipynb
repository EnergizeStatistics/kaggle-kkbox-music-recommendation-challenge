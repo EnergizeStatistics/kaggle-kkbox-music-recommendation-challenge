{
 "cells": [
  {
   "cell_type": "markdown",
   "metadata": {
    "_uuid": "571b62a8c4c4cfbcb88f79c359f0ed9802cfe565"
   },
   "source": [
    "# Music Recommendation System #"
   ]
  },
  {
   "cell_type": "markdown",
   "metadata": {
    "_uuid": "562084cc7a6ede21d53e6a77e3d23aa2150943ae"
   },
   "source": [
    "## Load Packages ##"
   ]
  },
  {
   "cell_type": "code",
   "execution_count": 13,
   "metadata": {
    "_cell_guid": "79c7e3d0-c299-4dcb-8224-4455121ee9b0",
    "_uuid": "d629ff2d2480ee46fbb7e2d37f6b5fab8052498a"
   },
   "outputs": [],
   "source": [
    "# process & visualize data \n",
    "import numpy as np\n",
    "import pandas as pd\n",
    "import itertools\n",
    "import gc\n",
    "import seaborn as sns\n",
    "\n",
    "# split dataset\n",
    "from sklearn.model_selection import train_test_split\n",
    "\n",
    "# natural language processing \n",
    "from gensim.models import phrases, word2vec\n",
    "from gensim.models.doc2vec import Doc2Vec, TaggedDocument\n",
    "import nltk\n",
    "from nltk import word_tokenize\n",
    "import re\n",
    "\n",
    "# sparse matrix\n",
    "import scipy.io\n",
    "import scipy.sparse\n",
    "\n",
    "# feature construction\n",
    "from sklearn.feature_extraction import DictVectorizer\n",
    "\n",
    "# recommendation system\n",
    "from lightfm import LightFM\n",
    "\n",
    "# deployment\n",
    "from flask import current_app\n",
    "\n",
    "np.random.seed(0)"
   ]
  },
  {
   "cell_type": "markdown",
   "metadata": {
    "_uuid": "023fc8ed2b3e25e697e2e9eac6e9ac8e96635ed0"
   },
   "source": [
    "## Load Data ##"
   ]
  },
  {
   "cell_type": "code",
   "execution_count": 3,
   "metadata": {
    "_uuid": "6202c3aa6bdbf8a154d10d6c0660f0bb190ff5d2"
   },
   "outputs": [],
   "source": [
    "data_dir = \"/home/lee/Documents/DatasetsForGitHub/kaggle_kkbox_music_recommendation_challenge/\"\n",
    "\n",
    "df_train = pd.read_csv(data_dir + \"train.csv\")\n",
    "df_songs = pd.read_csv(data_dir + 'songs.csv')\n",
    "df_members = pd.read_csv(data_dir + 'members.csv')\n",
    "df_test = pd.read_csv(data_dir + \"test.csv\")"
   ]
  },
  {
   "cell_type": "code",
   "execution_count": 4,
   "metadata": {},
   "outputs": [
    {
     "name": "stdout",
     "output_type": "stream",
     "text": [
      "[nltk_data] Downloading package punkt to /home/lee/Documents/DatasetsF\n",
      "[nltk_data]     orGitHub/kaggle_kkbox_music_recommendation_challenge/.\n",
      "[nltk_data]     ..\n",
      "[nltk_data]   Package punkt is already up-to-date!\n"
     ]
    }
   ],
   "source": [
    "# download NLP files to working directory\n",
    "nltk.download(['punkt'], download_dir=data_dir)\n",
    "nltk.data.path.append(data_dir)"
   ]
  },
  {
   "cell_type": "markdown",
   "metadata": {},
   "source": [
    "## Construct Features ##"
   ]
  },
  {
   "cell_type": "code",
   "execution_count": 5,
   "metadata": {
    "_uuid": "6697e13f918b36914299f126e29c37e9c2b2b287"
   },
   "outputs": [],
   "source": [
    "df_members['registration_date'] = pd.to_datetime(df_members['registration_init_time'], format='%Y%m%d').dt.date\n",
    "df_members['expiration_date'] = pd.to_datetime(df_members['expiration_date'], format='%Y%m%d').dt.date\n",
    "df_members.drop(['registration_init_time'], axis=1, inplace=True)"
   ]
  },
  {
   "cell_type": "markdown",
   "metadata": {},
   "source": [
    "### Impute Missing User Data ###"
   ]
  },
  {
   "cell_type": "markdown",
   "metadata": {},
   "source": [
    "**Gender**"
   ]
  },
  {
   "cell_type": "code",
   "execution_count": 6,
   "metadata": {},
   "outputs": [
    {
     "name": "stdout",
     "output_type": "stream",
     "text": [
      "57.8% members are missing gender information.\n"
     ]
    }
   ],
   "source": [
    "print(\"{0:.1f}% members are missing gender information.\"\\\n",
    "      .format(df_members['gender'].isnull().mean() * 100))"
   ]
  },
  {
   "cell_type": "markdown",
   "metadata": {},
   "source": [
    "Assign missing gender to be unknown."
   ]
  },
  {
   "cell_type": "code",
   "execution_count": 7,
   "metadata": {},
   "outputs": [],
   "source": [
    "df_members['gender_fill'] = df_members['gender'].fillna('unknown')"
   ]
  },
  {
   "cell_type": "markdown",
   "metadata": {},
   "source": [
    "**Age**"
   ]
  },
  {
   "cell_type": "code",
   "execution_count": 8,
   "metadata": {},
   "outputs": [
    {
     "name": "stdout",
     "output_type": "stream",
     "text": [
      "57.9% members are missing age information.\n"
     ]
    }
   ],
   "source": [
    "print(\"{0:.1f}% members are missing age information.\".format((df_members['bd'] == 0).mean() * 100))"
   ]
  },
  {
   "cell_type": "markdown",
   "metadata": {},
   "source": [
    "Three options here: assign the median of all users with known ages to the users whose ages are unknown, or keep the placeholder 0, or assign a different placeholder other than 0. "
   ]
  },
  {
   "cell_type": "code",
   "execution_count": 9,
   "metadata": {},
   "outputs": [],
   "source": [
    "# age_median = df_members[df_members['bd'] != 0]['bd'].median()\n",
    "# print(\"Median user age is {}\".format(age_median))\n",
    "# df_members.loc[df_members.bd == 0, 'bd'] = age_median\n",
    "# del age_median"
   ]
  },
  {
   "cell_type": "markdown",
   "metadata": {},
   "source": [
    "**Length of membership**"
   ]
  },
  {
   "cell_type": "code",
   "execution_count": 10,
   "metadata": {},
   "outputs": [],
   "source": [
    "df_members['account_length'] = np.floor((df_members['expiration_date'] \n",
    "                                         - df_members['registration_date']).dt.days / 365.25)"
   ]
  },
  {
   "cell_type": "markdown",
   "metadata": {},
   "source": [
    "### Examine and Impute Item Data ###"
   ]
  },
  {
   "cell_type": "markdown",
   "metadata": {},
   "source": [
    "**Song length**\n",
    "\n",
    "Most songs are pop/rock songs and will be in the 3-5 minutes range; longer pieces of music are different types. "
   ]
  },
  {
   "cell_type": "code",
   "execution_count": 17,
   "metadata": {},
   "outputs": [
    {
     "name": "stdout",
     "output_type": "stream",
     "text": [
      "count    2.296320e+06\n",
      "mean     4.116558e+00\n",
      "std      2.682000e+00\n",
      "min      3.083333e-03\n",
      "25%      3.060000e+00\n",
      "50%      3.777117e+00\n",
      "75%      4.621150e+00\n",
      "max      2.028975e+02\n",
      "Name: song_length, dtype: float64\n"
     ]
    },
    {
     "name": "stderr",
     "output_type": "stream",
     "text": [
      "/home/lee/.local/lib/python3.6/site-packages/scipy/stats/stats.py:1713: FutureWarning: Using a non-tuple sequence for multidimensional indexing is deprecated; use `arr[tuple(seq)]` instead of `arr[seq]`. In the future this will be interpreted as an array index, `arr[np.array(seq)]`, which will result either in an error or a different result.\n",
      "  return np.add.reduce(sorted[indexer] * weights, axis=axis) / sumval\n"
     ]
    },
    {
     "data": {
      "image/png": "[encoded data removed]",
      "text/plain": [
       "<Figure size 432x288 with 1 Axes>"
      ]
     },
     "metadata": {
      "needs_background": "light"
     },
     "output_type": "display_data"
    }
   ],
   "source": [
    "song_length_minutes = df_songs['song_length'] / 60000\n",
    "print(song_length_minutes.describe())\n",
    "\n",
    "ax = sns.distplot(song_length_minutes, color='blue')\n",
    "ax.set_title('Counts of Songs of Different Lengths')\n",
    "del song_length_minutes"
   ]
  },
  {
   "cell_type": "markdown",
   "metadata": {},
   "source": [
    "**Genre**"
   ]
  },
  {
   "cell_type": "code",
   "execution_count": 17,
   "metadata": {},
   "outputs": [
    {
     "name": "stdout",
     "output_type": "stream",
     "text": [
      "Number of unique genre ids: 191\n"
     ]
    },
    {
     "data": {
      "image/png": "[encoded data removed]",
      "text/plain": [
       "<Figure size 432x288 with 1 Axes>"
      ]
     },
     "metadata": {
      "needs_background": "light"
     },
     "output_type": "display_data"
    }
   ],
   "source": [
    "genre_ids_list = [genre_id.split('|') for genre_id in df_songs['genre_ids']\\\n",
    "                  .dropna().tolist()]\n",
    "# for a pandas column that is \n",
    "# '123|456'\n",
    "# '789'\n",
    "# '123'\n",
    "# this returns [['123', '456'], '789', '123']\n",
    "\n",
    "genre_ids_flatten = list(itertools.chain.from_iterable(genre_ids_list))\n",
    "# ['123', '456', '789', '123']\n",
    "\n",
    "print(\"Number of unique genre ids: {}\".format(len(set(genre_ids_flatten))))\n",
    "\n",
    "ax = sns.countplot(x=genre_ids_flatten, color='blue')\n",
    "ax.set_title('Counts of Song Genres')\n",
    "# too many genre ids, do not show x-axis labels \n",
    "ax.set(xticks=[])\n",
    "del genre_ids_flatten, ax"
   ]
  },
  {
   "cell_type": "markdown",
   "metadata": {},
   "source": [
    "A few genres are far more common than the rest. "
   ]
  },
  {
   "cell_type": "markdown",
   "metadata": {},
   "source": [
    "Look at genre ids for the same song. "
   ]
  },
  {
   "cell_type": "code",
   "execution_count": 18,
   "metadata": {},
   "outputs": [
    {
     "name": "stdout",
     "output_type": "stream",
     "text": [
      "0.90    1.0\n",
      "0.95    2.0\n",
      "0.99    3.0\n",
      "Name: genre_ids, dtype: float64\n"
     ]
    }
   ],
   "source": [
    "genre_id_count = 1 + df_songs['genre_ids'].str.count('\\|')\n",
    "print(genre_id_count.quantile([0.90, 0.95, 0.99]))\n",
    "del genre_id_count"
   ]
  },
  {
   "cell_type": "markdown",
   "metadata": {},
   "source": [
    "Few songs have more than 1 genre id. We arbitrarily extract the first one for the songs with multiple genre ids. Other options include picking the least common genre id and picking the most common one. "
   ]
  },
  {
   "cell_type": "code",
   "execution_count": 19,
   "metadata": {},
   "outputs": [],
   "source": [
    "# first fill missing genre id\n",
    "df_songs['genre_ids'] = df_songs['genre_ids'].fillna('-999')\n",
    "# extract 1st\n",
    "df_songs['genre_id_extract'] = df_songs['genre_ids'].apply(lambda row: row.split('|')[0])"
   ]
  },
  {
   "cell_type": "markdown",
   "metadata": {},
   "source": [
    "**Languages**"
   ]
  },
  {
   "cell_type": "code",
   "execution_count": 1,
   "metadata": {},
   "outputs": [
    {
     "ename": "NameError",
     "evalue": "name 'df_songs' is not defined",
     "output_type": "error",
     "traceback": [
      "\u001b[0;31m---------------------------------------------------------------------------\u001b[0m",
      "\u001b[0;31mNameError\u001b[0m                                 Traceback (most recent call last)",
      "\u001b[0;32m<ipython-input-1-eab77b7ea9b2>\u001b[0m in \u001b[0;36m<module>\u001b[0;34m()\u001b[0m\n\u001b[0;32m----> 1\u001b[0;31m \u001b[0mprint\u001b[0m\u001b[0;34m(\u001b[0m\u001b[0;34m'frequency distribution of language codes:\\n{}'\u001b[0m\u001b[0;34m.\u001b[0m\u001b[0mformat\u001b[0m\u001b[0;34m(\u001b[0m\u001b[0mdf_songs\u001b[0m\u001b[0;34m[\u001b[0m\u001b[0;34m'language'\u001b[0m\u001b[0;34m]\u001b[0m\u001b[0;34m.\u001b[0m\u001b[0mvalue_counts\u001b[0m\u001b[0;34m(\u001b[0m\u001b[0;34m)\u001b[0m\u001b[0;34m)\u001b[0m\u001b[0;34m)\u001b[0m\u001b[0;34m\u001b[0m\u001b[0m\n\u001b[0m",
      "\u001b[0;31mNameError\u001b[0m: name 'df_songs' is not defined"
     ]
    }
   ],
   "source": [
    "print('frequency distribution of language codes:\\n{}'.format(df_songs['language'].value_counts()))"
   ]
  },
  {
   "cell_type": "markdown",
   "metadata": {},
   "source": [
    "We deduce that -1.0 represents unknown. Assign -1.0 to records missing language info. "
   ]
  },
  {
   "cell_type": "code",
   "execution_count": 148,
   "metadata": {},
   "outputs": [],
   "source": [
    "df_songs['language'] = df_songs['language'].fillna('-1.')"
   ]
  },
  {
   "cell_type": "markdown",
   "metadata": {},
   "source": [
    "**Artists**"
   ]
  },
  {
   "cell_type": "code",
   "execution_count": 20,
   "metadata": {},
   "outputs": [
    {
     "name": "stdout",
     "output_type": "stream",
     "text": [
      "Number of unique artists: 222363\n"
     ]
    }
   ],
   "source": [
    "# after manually examining data, frequently used separators between artist names: |, /, \\, ;, (, )\n",
    "artists = [artist.split('[|/\\\\;\\(\\)]') for artist in df_songs['artist_name'].dropna().tolist()]\n",
    "# for a pandas column that is\n",
    "# 'abc|def'\n",
    "# 'ghi'\n",
    "# 'jkl'\n",
    "# this returns [['abc', 'def'], 'ghi', 'jkl']\n",
    "\n",
    "artists_flatten = list(itertools.chain.from_iterable(artists))\n",
    "# ['abc', 'def', 'ghi', 'jkl']\n",
    "\n",
    "print(\"Number of unique artists: {}\".format(len(set(artists_flatten))))"
   ]
  },
  {
   "cell_type": "markdown",
   "metadata": {},
   "source": [
    "The artist column occasionally has the same artist's name in multiple languages, for example \"周杰倫 (Jay Chou)\" is only one person. This case is counted as two artists. "
   ]
  },
  {
   "cell_type": "code",
   "execution_count": 21,
   "metadata": {},
   "outputs": [],
   "source": [
    "del artists, artists_flatten"
   ]
  }
 ],
 "metadata": {
  "kernelspec": {
   "display_name": "Python 3",
   "language": "python",
   "name": "python3"
  },
  "language_info": {
   "codemirror_mode": {
    "name": "ipython",
    "version": 3
   },
   "file_extension": ".py",
   "mimetype": "text/x-python",
   "name": "python",
   "nbconvert_exporter": "python",
   "pygments_lexer": "ipython3",
   "version": "3.6.5"
  }
 },
 "nbformat": 4,
 "nbformat_minor": 1
}
